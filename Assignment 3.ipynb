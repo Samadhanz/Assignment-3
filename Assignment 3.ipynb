{
 "cells": [
  {
   "cell_type": "code",
   "execution_count": 2,
   "id": "70a77212",
   "metadata": {},
   "outputs": [
    {
     "name": "stdout",
     "output_type": "stream",
     "text": [
      "8 2 3 0 7\n",
      "Sum of numbers is: 20\n"
     ]
    }
   ],
   "source": [
    "#Sum of the numbers\n",
    "def sum(*n):\n",
    "    list=[int(x) for x in input().split()]\n",
    "    sum=0\n",
    "    for i in list:\n",
    "        sum=sum+i\n",
    "    print(\"Sum of numbers is:\",sum)\n",
    "sum(list)"
   ]
  },
  {
   "cell_type": "code",
   "execution_count": 3,
   "id": "472e519a",
   "metadata": {},
   "outputs": [
    {
     "name": "stdout",
     "output_type": "stream",
     "text": [
      "input string is:1234abcd\n",
      "Reverse of given string is: dcba4321\n"
     ]
    }
   ],
   "source": [
    "#Reverse of the string\n",
    "s=input(\"input string is:\")\n",
    "def rev(x):\n",
    "    r=x[::-1]\n",
    "    print(\"Reverse of given string is:\",r)\n",
    "rev(s)"
   ]
  },
  {
   "cell_type": "code",
   "execution_count": 5,
   "id": "bf812cb3",
   "metadata": {},
   "outputs": [
    {
     "name": "stdout",
     "output_type": "stream",
     "text": [
      "input the string:The quick Brow Box\n",
      "\n",
      " Number of uppercase charachters are: 3\n",
      "\n",
      " Number of lowercase charachters are: 12\n"
     ]
    }
   ],
   "source": [
    "#Calculate upper and lower case\n",
    "x=input(\"input the string:\")\n",
    "def aplh(b):\n",
    "    count1=0\n",
    "    count2=0\n",
    "    for i in b:\n",
    "        if i.isupper()is True:\n",
    "            count1=count1+1\n",
    "        elif i.islower()is True:\n",
    "            count2=count2+1\n",
    "    print(\"\\n Number of uppercase charachters are:\",count1)\n",
    "    print(\"\\n Number of lowercase charachters are:\",count2)\n",
    "aplh(x)"
   ]
  },
  {
   "cell_type": "code",
   "execution_count": null,
   "id": "d9a75a35",
   "metadata": {},
   "outputs": [],
   "source": []
  }
 ],
 "metadata": {
  "kernelspec": {
   "display_name": "Python 3 (ipykernel)",
   "language": "python",
   "name": "python3"
  },
  "language_info": {
   "codemirror_mode": {
    "name": "ipython",
    "version": 3
   },
   "file_extension": ".py",
   "mimetype": "text/x-python",
   "name": "python",
   "nbconvert_exporter": "python",
   "pygments_lexer": "ipython3",
   "version": "3.9.12"
  }
 },
 "nbformat": 4,
 "nbformat_minor": 5
}
